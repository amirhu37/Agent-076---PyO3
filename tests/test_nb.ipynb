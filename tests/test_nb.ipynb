{
 "cells": [
  {
   "cell_type": "code",
   "execution_count": 2,
   "metadata": {},
   "outputs": [],
   "source": [
    "import numpy as np\n",
    "from society import Agent, Env\n",
    "from tools import timeit, memory"
   ]
  },
  {
   "cell_type": "code",
   "execution_count": 3,
   "metadata": {},
   "outputs": [],
   "source": [
    "class GridEnv(Env):\n",
    "    def __init__(self, name, action_space , observation_space) -> None:\n",
    "        self.action_space = action_space\n",
    "        self.observation_space = observation_space\n",
    "        super().__init__()\n",
    "        pass\n",
    "\n",
    "    def step(self, state: np.ndarray, action: int) -> tuple:\n",
    "        reward = np.random.ran()\n",
    "        return reward, False, {\"some\": 0}\n",
    "    \n",
    "    def reset(self):\n",
    "        return super().reset()\n",
    "    def close(self) -> None:\n",
    "        return super().close()\n",
    "                 "
   ]
  },
  {
   "cell_type": "code",
   "execution_count": 4,
   "metadata": {},
   "outputs": [],
   "source": [
    "class Nemo(Agent):\n",
    "    def __init__(self, name, action_size, utility = 0):\n",
    "        self.utility = utility\n",
    "        self.action_size = action_size\n",
    "        super().__init__()\n",
    "        pass\n",
    "    def policy(self, observ):\n",
    "        # p = observ / observ.sum()\n",
    "        return np.random.choice(self.action_size, p =[.3 , .2, .1 , .2 , .2] )\n",
    "\n",
    "    def returns(self) :\n",
    "        return super().returns()\n"
   ]
  },
  {
   "cell_type": "code",
   "execution_count": 12,
   "metadata": {},
   "outputs": [
    {
     "name": "stdout",
     "output_type": "stream",
     "text": [
      "GridEnv(2)\n"
     ]
    }
   ],
   "source": [
    "env1 = GridEnv(name=\"matrix\",\n",
    "           action_space= np.arange(10),\n",
    "           observation_space = np.random.randint(1,10 , (1000,100,2) , dtype=np.int64) \n",
    "           )\n",
    "\n",
    "print(env1)"
   ]
  },
  {
   "cell_type": "code",
   "execution_count": 7,
   "metadata": {},
   "outputs": [
    {
     "name": "stdout",
     "output_type": "stream",
     "text": [
      "Nemo(Id = 2, Name = nemo, () , {'action_size': array([0, 1, 2, 3, 4]), 'utility': array([[0., 0., 0., 0., 0.],\n",
      "       [0., 0., 0., 0., 0.],\n",
      "       [0., 0., 0., 0., 0.],\n",
      "       ...,\n",
      "       [0., 0., 0., 0., 0.],\n",
      "       [0., 0., 0., 0., 0.],\n",
      "       [0., 0., 0., 0., 0.]])})\n"
     ]
    }
   ],
   "source": [
    "agent_action =  np.arange(5)\n",
    "\n",
    "agent_action.shape\n",
    "\n",
    "utility = np.zeros((\n",
    "    env1.observation_space.shape[0],\n",
    "    agent_action.shape[0]\n",
    "))\n",
    "agent = Nemo(\"nemo\", action_size = agent_action, utility=utility )\n",
    "\n",
    "print(agent)"
   ]
  },
  {
   "cell_type": "code",
   "execution_count": 8,
   "metadata": {},
   "outputs": [
    {
     "data": {
      "text/plain": [
       "array([0, 1, 2, 3, 4])"
      ]
     },
     "execution_count": 8,
     "metadata": {},
     "output_type": "execute_result"
    }
   ],
   "source": [
    "agent.action_size"
   ]
  },
  {
   "cell_type": "code",
   "execution_count": 11,
   "metadata": {},
   "outputs": [
    {
     "data": {
      "text/plain": [
       "'Nemo'"
      ]
     },
     "execution_count": 11,
     "metadata": {},
     "output_type": "execute_result"
    }
   ],
   "source": [
    "type(agent).__name__"
   ]
  },
  {
   "cell_type": "code",
   "execution_count": null,
   "metadata": {},
   "outputs": [],
   "source": []
  }
 ],
 "metadata": {
  "kernelspec": {
   "display_name": "new_env",
   "language": "python",
   "name": "python3"
  },
  "language_info": {
   "codemirror_mode": {
    "name": "ipython",
    "version": 3
   },
   "file_extension": ".py",
   "mimetype": "text/x-python",
   "name": "python",
   "nbconvert_exporter": "python",
   "pygments_lexer": "ipython3",
   "version": "3.11.0"
  }
 },
 "nbformat": 4,
 "nbformat_minor": 2
}
